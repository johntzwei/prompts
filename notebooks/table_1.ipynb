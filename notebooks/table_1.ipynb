{
 "cells": [
  {
   "cell_type": "code",
   "execution_count": 1,
   "id": "f267f457",
   "metadata": {},
   "outputs": [],
   "source": [
    "from glob import glob\n",
    "\n",
    "import numpy as np\n",
    "import pandas as pd\n",
    "from scipy import stats\n",
    "\n",
    "import json\n",
    "import csv\n",
    "import ipdb\n",
    "import pandas as pd\n",
    "from tqdm.notebook import tqdm\n",
    "from datasets import load_dataset\n",
    "from promptsource.templates import DatasetTemplates, TemplateCollection"
   ]
  },
  {
   "cell_type": "code",
   "execution_count": 2,
   "id": "a57ce9f1",
   "metadata": {},
   "outputs": [],
   "source": [
    "ds = ('super_glue','boolq')"
   ]
  },
  {
   "cell_type": "code",
   "execution_count": 3,
   "id": "66b94bd9",
   "metadata": {},
   "outputs": [],
   "source": [
    "ds_prompts = DatasetTemplates(*ds)"
   ]
  },
  {
   "cell_type": "code",
   "execution_count": 9,
   "id": "6fcb1f2e",
   "metadata": {},
   "outputs": [
    {
     "data": {
      "application/vnd.jupyter.widget-view+json": {
       "model_id": "9e68138e27e14a59ade8d5a8d005cecf",
       "version_major": 2,
       "version_minor": 0
      },
      "text/plain": [
       "  0%|          | 0/10 [00:00<?, ?it/s]"
      ]
     },
     "metadata": {},
     "output_type": "display_data"
    },
    {
     "name": "stdout",
     "output_type": "stream",
     "text": [
      "GPT-3 Style\n",
      "{{ passage }} \n",
      "Question: {{ question }}\n",
      "Answer: ||| \n",
      "{% if label != -1 %}\n",
      "{{ answer_choices[label] }}\n",
      "{% endif %}\n",
      "['No', 'Yes']\n",
      "===\n",
      "I wonder…\n",
      "{{ passage }} \n",
      "\n",
      "Having read that, I wonder {{ question }}? |||\n",
      "{% if label != -1 %}\n",
      "{{ answer_choices[label] }} \n",
      "{% endif %}\n",
      "['No', 'Yes']\n",
      "===\n",
      "after_reading\n",
      "Passage: {{passage}}\n",
      "\n",
      "After reading this passage, I have a question: {{question}}? True or False? |||\n",
      "{% if label != -1 %}\n",
      "{{answer_choices[label]}}\n",
      "{% endif %}\n",
      "['False', 'True']\n",
      "===\n",
      "based on the following passage\n",
      "Based on the following passage, {{ question }}? {{ passage }}\n",
      "\n",
      "|||\n",
      "{% if label != -1 %}\n",
      "{{ answer_choices[label] }}\n",
      "{% endif %}\n",
      "['No', 'Yes']\n",
      "===\n",
      "based on the previous passage\n",
      "{{ passage }}\n",
      "Based on the previous passage, {{ question }}? ||| {% if label != -1 %}{{ answer_choices[label] }}\n",
      "{% endif %}\n",
      "['No', 'Yes']\n",
      "===\n",
      "could you tell me…\n",
      "{{ passage }} \n",
      "\n",
      "Having read that, could you tell me {{ question }}? ||| {% if label != -1 %}{{ answer_choices[label] }}\n",
      "{% endif %}\n",
      "['No', 'Yes']\n",
      "===\n",
      "exam\n",
      "EXAM\n",
      "1. Answer by yes or no.\n",
      "\n",
      "Document: {{passage}}\n",
      "Question: {{question}}? ||| \n",
      "{% if label != -1 %}\n",
      "{{answer_choices[label]}}\n",
      "{% endif %}\n",
      "['No', 'Yes']\n",
      "===\n",
      "exercise\n",
      "Exercise: read the text and answer the question by True or False.\n",
      "\n",
      "Text: {{passage}}\n",
      "Question: {{question}}? |||\n",
      "{% if label != -1 %}\n",
      "{{answer_choices[label]}}\n",
      "{% endif %}\n",
      "['False', 'True']\n",
      "===\n",
      "valid_binary\n",
      "{{passage}}\n",
      "\n",
      "Q: {{question}}? True or False? |||\n",
      "{% if label != -1 %}\n",
      "{{answer_choices[label]}}\n",
      "{% endif %}\n",
      "['False', 'True']\n",
      "===\n",
      "yes_no_question\n",
      "Text: {{passage}}\n",
      "\n",
      "Answer the following yes/no question: {{question}}? Yes or no? |||\n",
      "{% if label != -1 %}\n",
      "{{answer_choices[label]}}\n",
      "{% endif %}\n",
      "['No', 'Yes']\n",
      "===\n"
     ]
    }
   ],
   "source": [
    "# Select a prompt by name\n",
    "for template in tqdm(ds_prompts.all_template_names):\n",
    "        print(template)\n",
    "        prompt = ds_prompts[template]\n",
    "        print(prompt.jinja)\n",
    "        print(prompt.get_fixed_answer_choices_list())\n",
    "        print('===')"
   ]
  },
  {
   "cell_type": "code",
   "execution_count": null,
   "id": "1484dc63",
   "metadata": {},
   "outputs": [],
   "source": []
  }
 ],
 "metadata": {
  "kernelspec": {
   "display_name": "Python 3 (ipykernel)",
   "language": "python",
   "name": "python3"
  },
  "language_info": {
   "codemirror_mode": {
    "name": "ipython",
    "version": 3
   },
   "file_extension": ".py",
   "mimetype": "text/x-python",
   "name": "python",
   "nbconvert_exporter": "python",
   "pygments_lexer": "ipython3",
   "version": "3.7.11"
  }
 },
 "nbformat": 4,
 "nbformat_minor": 5
}
