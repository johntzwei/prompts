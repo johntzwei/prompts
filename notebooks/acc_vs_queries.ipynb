{
 "cells": [
  {
   "cell_type": "code",
   "execution_count": 25,
   "id": "a0997e7a",
   "metadata": {},
   "outputs": [],
   "source": [
    "import matplotlib.pyplot as plt\n",
    "import seaborn as sns\n",
    "\n",
    "sns.set_context('paper', font_scale=0.73)\n",
    "sns.set_style('whitegrid', {'font.family':'serif', 'font.serif':'Times New Roman'})"
   ]
  },
  {
   "cell_type": "code",
   "execution_count": null,
   "id": "4865c6fc",
   "metadata": {},
   "outputs": [],
   "source": [
    "plt.figure(figsize=(3, 1.8))\n",
    "\n",
    "# calibrated best\n",
    "acc = [0.8044977193168559, 0.8073618330327782, 0.8074679113185531, 0.8067253633181288, 0.808740850747852]\n",
    "q = [1] * len(acc)\n",
    "sns.scatterplot(x=acc, y=q, label='Best single prompt')\n",
    "\n",
    "# LR\n",
    "acc = [0.8152794891900974, 0.8183040215077854, 0.8230088495575221, 0.8243530861431612, 0.8150554497591576]\n",
    "q = [3.0, 3.0, 5.0, 4.0, 3.0]\n",
    "sns.scatterplot(x=acc, y=q, label='Logistic regression')\n",
    "\n",
    "# DT\n",
    "acc = [0.7794331802397222, 0.8053097345132744, 0.8163996863447966, 0.8065419513834435, 0.8135991934580487]\n",
    "q = [3.0, 2.588958626873319, 2.545664147559882, 2.0, 2.197130780069169]\n",
    "sns.scatterplot(x=acc, y=q, label='Decision tree')\n",
    "\n",
    "# NB\n",
    "acc = [0.8066539710989135, 0.7979164332922595, 0.8194242186624846, 0.7925394869497031, 0.7641984989358127]\n",
    "q = [10] * len(acc)\n",
    "sns.scatterplot(x=acc, y=q, label='Naive Bayes')\n",
    "\n",
    "plt.ylabel('Average queries per example')\n",
    "plt.xlabel('Accuracy')\n",
    "plt.savefig('acc_q.pdf')"
   ]
  }
 ],
 "metadata": {
  "kernelspec": {
   "display_name": "Python 3 (ipykernel)",
   "language": "python",
   "name": "python3"
  },
  "language_info": {
   "codemirror_mode": {
    "name": "ipython",
    "version": 3
   },
   "file_extension": ".py",
   "mimetype": "text/x-python",
   "name": "python",
   "nbconvert_exporter": "python",
   "pygments_lexer": "ipython3",
   "version": "3.7.11"
  }
 },
 "nbformat": 4,
 "nbformat_minor": 5
}
